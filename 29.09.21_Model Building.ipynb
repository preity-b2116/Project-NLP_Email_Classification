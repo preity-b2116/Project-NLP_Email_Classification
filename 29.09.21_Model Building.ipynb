{
 "cells": [
  {
   "cell_type": "code",
   "execution_count": 1,
   "id": "aea263e4",
   "metadata": {},
   "outputs": [],
   "source": [
    "import pandas as pd\n",
    "from sklearn.model_selection import train_test_split\n",
    "from sklearn.metrics import classification_report\n",
    "from sklearn.metrics import confusion_matrix\n",
    "import pickle\n",
    "from sklearn.metrics import f1_score,accuracy_score\n",
    "from sklearn.metrics import recall_score\n",
    "from sklearn.metrics import precision_score\n",
    "from sklearn.linear_model import LogisticRegression\n",
    "import numpy as np\n",
    "import matplotlib.pyplot as plt\n",
    "import seaborn as sns"
   ]
  },
  {
   "cell_type": "code",
   "execution_count": 2,
   "id": "096d710e",
   "metadata": {},
   "outputs": [
    {
     "data": {
      "text/html": [
       "<div>\n",
       "<style scoped>\n",
       "    .dataframe tbody tr th:only-of-type {\n",
       "        vertical-align: middle;\n",
       "    }\n",
       "\n",
       "    .dataframe tbody tr th {\n",
       "        vertical-align: top;\n",
       "    }\n",
       "\n",
       "    .dataframe thead th {\n",
       "        text-align: right;\n",
       "    }\n",
       "</style>\n",
       "<table border=\"1\" class=\"dataframe\">\n",
       "  <thead>\n",
       "    <tr style=\"text-align: right;\">\n",
       "      <th></th>\n",
       "      <th>Unnamed: 0</th>\n",
       "      <th>____</th>\n",
       "      <th>_____</th>\n",
       "      <th>aa</th>\n",
       "      <th>aaron</th>\n",
       "      <th>ab</th>\n",
       "      <th>abandon</th>\n",
       "      <th>abc</th>\n",
       "      <th>abel</th>\n",
       "      <th>abil</th>\n",
       "      <th>...</th>\n",
       "      <th>yvett</th>\n",
       "      <th>zach</th>\n",
       "      <th>zadow</th>\n",
       "      <th>zdnet</th>\n",
       "      <th>zero</th>\n",
       "      <th>zhiyong</th>\n",
       "      <th>zima</th>\n",
       "      <th>zip</th>\n",
       "      <th>zipper</th>\n",
       "      <th>zone</th>\n",
       "    </tr>\n",
       "  </thead>\n",
       "  <tbody>\n",
       "    <tr>\n",
       "      <th>0</th>\n",
       "      <td>0</td>\n",
       "      <td>0.0</td>\n",
       "      <td>0.0</td>\n",
       "      <td>0.0</td>\n",
       "      <td>0.0</td>\n",
       "      <td>0.0</td>\n",
       "      <td>0.0</td>\n",
       "      <td>0.0</td>\n",
       "      <td>0.0</td>\n",
       "      <td>0.0</td>\n",
       "      <td>...</td>\n",
       "      <td>0.0</td>\n",
       "      <td>0.0</td>\n",
       "      <td>0.0</td>\n",
       "      <td>0.0</td>\n",
       "      <td>0.0</td>\n",
       "      <td>0.0</td>\n",
       "      <td>0.0</td>\n",
       "      <td>0.0</td>\n",
       "      <td>0.0</td>\n",
       "      <td>0.0</td>\n",
       "    </tr>\n",
       "    <tr>\n",
       "      <th>1</th>\n",
       "      <td>1</td>\n",
       "      <td>0.0</td>\n",
       "      <td>0.0</td>\n",
       "      <td>0.0</td>\n",
       "      <td>0.0</td>\n",
       "      <td>0.0</td>\n",
       "      <td>0.0</td>\n",
       "      <td>0.0</td>\n",
       "      <td>0.0</td>\n",
       "      <td>0.0</td>\n",
       "      <td>...</td>\n",
       "      <td>0.0</td>\n",
       "      <td>0.0</td>\n",
       "      <td>0.0</td>\n",
       "      <td>0.0</td>\n",
       "      <td>0.0</td>\n",
       "      <td>0.0</td>\n",
       "      <td>0.0</td>\n",
       "      <td>0.0</td>\n",
       "      <td>0.0</td>\n",
       "      <td>0.0</td>\n",
       "    </tr>\n",
       "    <tr>\n",
       "      <th>2</th>\n",
       "      <td>2</td>\n",
       "      <td>0.0</td>\n",
       "      <td>0.0</td>\n",
       "      <td>0.0</td>\n",
       "      <td>0.0</td>\n",
       "      <td>0.0</td>\n",
       "      <td>0.0</td>\n",
       "      <td>0.0</td>\n",
       "      <td>0.0</td>\n",
       "      <td>0.0</td>\n",
       "      <td>...</td>\n",
       "      <td>0.0</td>\n",
       "      <td>0.0</td>\n",
       "      <td>0.0</td>\n",
       "      <td>0.0</td>\n",
       "      <td>0.0</td>\n",
       "      <td>0.0</td>\n",
       "      <td>0.0</td>\n",
       "      <td>0.0</td>\n",
       "      <td>0.0</td>\n",
       "      <td>0.0</td>\n",
       "    </tr>\n",
       "    <tr>\n",
       "      <th>3</th>\n",
       "      <td>3</td>\n",
       "      <td>0.0</td>\n",
       "      <td>0.0</td>\n",
       "      <td>0.0</td>\n",
       "      <td>0.0</td>\n",
       "      <td>0.0</td>\n",
       "      <td>0.0</td>\n",
       "      <td>0.0</td>\n",
       "      <td>0.0</td>\n",
       "      <td>0.0</td>\n",
       "      <td>...</td>\n",
       "      <td>0.0</td>\n",
       "      <td>0.0</td>\n",
       "      <td>0.0</td>\n",
       "      <td>0.0</td>\n",
       "      <td>0.0</td>\n",
       "      <td>0.0</td>\n",
       "      <td>0.0</td>\n",
       "      <td>0.0</td>\n",
       "      <td>0.0</td>\n",
       "      <td>0.0</td>\n",
       "    </tr>\n",
       "    <tr>\n",
       "      <th>4</th>\n",
       "      <td>4</td>\n",
       "      <td>0.0</td>\n",
       "      <td>0.0</td>\n",
       "      <td>0.0</td>\n",
       "      <td>0.0</td>\n",
       "      <td>0.0</td>\n",
       "      <td>0.0</td>\n",
       "      <td>0.0</td>\n",
       "      <td>0.0</td>\n",
       "      <td>0.0</td>\n",
       "      <td>...</td>\n",
       "      <td>0.0</td>\n",
       "      <td>0.0</td>\n",
       "      <td>0.0</td>\n",
       "      <td>0.0</td>\n",
       "      <td>0.0</td>\n",
       "      <td>0.0</td>\n",
       "      <td>0.0</td>\n",
       "      <td>0.0</td>\n",
       "      <td>0.0</td>\n",
       "      <td>0.0</td>\n",
       "    </tr>\n",
       "  </tbody>\n",
       "</table>\n",
       "<p>5 rows × 5001 columns</p>\n",
       "</div>"
      ],
      "text/plain": [
       "   Unnamed: 0  ____  _____   aa  aaron   ab  abandon  abc  abel  abil  ...  \\\n",
       "0           0   0.0    0.0  0.0    0.0  0.0      0.0  0.0   0.0   0.0  ...   \n",
       "1           1   0.0    0.0  0.0    0.0  0.0      0.0  0.0   0.0   0.0  ...   \n",
       "2           2   0.0    0.0  0.0    0.0  0.0      0.0  0.0   0.0   0.0  ...   \n",
       "3           3   0.0    0.0  0.0    0.0  0.0      0.0  0.0   0.0   0.0  ...   \n",
       "4           4   0.0    0.0  0.0    0.0  0.0      0.0  0.0   0.0   0.0  ...   \n",
       "\n",
       "   yvett  zach  zadow  zdnet  zero  zhiyong  zima  zip  zipper  zone  \n",
       "0    0.0   0.0    0.0    0.0   0.0      0.0   0.0  0.0     0.0   0.0  \n",
       "1    0.0   0.0    0.0    0.0   0.0      0.0   0.0  0.0     0.0   0.0  \n",
       "2    0.0   0.0    0.0    0.0   0.0      0.0   0.0  0.0     0.0   0.0  \n",
       "3    0.0   0.0    0.0    0.0   0.0      0.0   0.0  0.0     0.0   0.0  \n",
       "4    0.0   0.0    0.0    0.0   0.0      0.0   0.0  0.0     0.0   0.0  \n",
       "\n",
       "[5 rows x 5001 columns]"
      ]
     },
     "execution_count": 2,
     "metadata": {},
     "output_type": "execute_result"
    }
   ],
   "source": [
    "X = pd.read_csv('TF-IDF.csv')\n",
    "X.head()"
   ]
  },
  {
   "cell_type": "code",
   "execution_count": 3,
   "id": "42f561bf",
   "metadata": {},
   "outputs": [
    {
     "data": {
      "text/plain": [
       "(26246, 5001)"
      ]
     },
     "execution_count": 3,
     "metadata": {},
     "output_type": "execute_result"
    }
   ],
   "source": [
    "X.shape"
   ]
  },
  {
   "cell_type": "code",
   "execution_count": 4,
   "id": "2b113111",
   "metadata": {},
   "outputs": [
    {
     "data": {
      "text/html": [
       "<div>\n",
       "<style scoped>\n",
       "    .dataframe tbody tr th:only-of-type {\n",
       "        vertical-align: middle;\n",
       "    }\n",
       "\n",
       "    .dataframe tbody tr th {\n",
       "        vertical-align: top;\n",
       "    }\n",
       "\n",
       "    .dataframe thead th {\n",
       "        text-align: right;\n",
       "    }\n",
       "</style>\n",
       "<table border=\"1\" class=\"dataframe\">\n",
       "  <thead>\n",
       "    <tr style=\"text-align: right;\">\n",
       "      <th></th>\n",
       "      <th>Class</th>\n",
       "    </tr>\n",
       "  </thead>\n",
       "  <tbody>\n",
       "    <tr>\n",
       "      <th>0</th>\n",
       "      <td>Abusive</td>\n",
       "    </tr>\n",
       "    <tr>\n",
       "      <th>1</th>\n",
       "      <td>Abusive</td>\n",
       "    </tr>\n",
       "    <tr>\n",
       "      <th>2</th>\n",
       "      <td>Abusive</td>\n",
       "    </tr>\n",
       "    <tr>\n",
       "      <th>3</th>\n",
       "      <td>Abusive</td>\n",
       "    </tr>\n",
       "    <tr>\n",
       "      <th>4</th>\n",
       "      <td>Abusive</td>\n",
       "    </tr>\n",
       "  </tbody>\n",
       "</table>\n",
       "</div>"
      ],
      "text/plain": [
       "     Class\n",
       "0  Abusive\n",
       "1  Abusive\n",
       "2  Abusive\n",
       "3  Abusive\n",
       "4  Abusive"
      ]
     },
     "execution_count": 4,
     "metadata": {},
     "output_type": "execute_result"
    }
   ],
   "source": [
    "df = pd.read_csv('cleandata.csv')\n",
    "Y_class = df.iloc[:26246,2:]\n",
    "Y_class.head()"
   ]
  },
  {
   "cell_type": "code",
   "execution_count": 5,
   "id": "44f6e66d",
   "metadata": {},
   "outputs": [
    {
     "data": {
      "text/plain": [
       "(26246, 1)"
      ]
     },
     "execution_count": 5,
     "metadata": {},
     "output_type": "execute_result"
    }
   ],
   "source": [
    "Y_class.shape"
   ]
  },
  {
   "cell_type": "code",
   "execution_count": 6,
   "id": "a4ca8307",
   "metadata": {},
   "outputs": [],
   "source": [
    "X_df=X.iloc[:,1:]"
   ]
  },
  {
   "cell_type": "code",
   "execution_count": 7,
   "id": "c2794cd5",
   "metadata": {},
   "outputs": [],
   "source": [
    "Y_df=Y_class['Class']"
   ]
  },
  {
   "cell_type": "markdown",
   "id": "fcd543f5",
   "metadata": {},
   "source": [
    "### Spliting the data into train and test"
   ]
  },
  {
   "cell_type": "code",
   "execution_count": 8,
   "id": "c5605e56",
   "metadata": {},
   "outputs": [
    {
     "data": {
      "text/plain": [
       "((17584, 5000), (17584,), (8662, 5000), (8662,))"
      ]
     },
     "execution_count": 8,
     "metadata": {},
     "output_type": "execute_result"
    }
   ],
   "source": [
    "x_train, x_test,y_train,y_test = train_test_split(X_df,Y_df, test_size=0.33,random_state=0)\n",
    "x_train.shape,y_train.shape, x_test.shape,y_test.shape"
   ]
  },
  {
   "cell_type": "code",
   "execution_count": 9,
   "id": "e4861a1d",
   "metadata": {},
   "outputs": [],
   "source": [
    "x_train.to_csv('xtrain.csv')"
   ]
  },
  {
   "cell_type": "code",
   "execution_count": 10,
   "id": "8fb088ed",
   "metadata": {},
   "outputs": [],
   "source": [
    "y_train.to_csv('ytrain.csv')"
   ]
  },
  {
   "cell_type": "code",
   "execution_count": 11,
   "id": "251db9fe",
   "metadata": {},
   "outputs": [
    {
     "name": "stdout",
     "output_type": "stream",
     "text": [
      "Train data - Class      \n",
      "Non Abusive    15310\n",
      "Abusive         2274\n",
      "dtype: int64\n",
      "Test data - Class      \n",
      "Non Abusive    7526\n",
      "Abusive        1136\n",
      "dtype: int64\n"
     ]
    }
   ],
   "source": [
    "ff=pd.DataFrame(y_train)\n",
    "print('Train data -',ff.value_counts())\n",
    "fft=pd.DataFrame(y_test)\n",
    "print('Test data -',fft.value_counts())"
   ]
  },
  {
   "cell_type": "markdown",
   "id": "791b87de",
   "metadata": {},
   "source": [
    "### Balancing the splited data using SMOTE method"
   ]
  },
  {
   "cell_type": "code",
   "execution_count": 21,
   "id": "caf5e577",
   "metadata": {},
   "outputs": [
    {
     "name": "stdout",
     "output_type": "stream",
     "text": [
      "Collecting imbalanced-learn\n",
      "  Downloading imbalanced_learn-0.8.1-py3-none-any.whl (189 kB)\n",
      "Requirement already satisfied: scipy>=0.19.1 in c:\\users\\dell1\\anaconda3\\lib\\site-packages (from imbalanced-learn) (1.6.2)\n",
      "Requirement already satisfied: joblib>=0.11 in c:\\users\\dell1\\anaconda3\\lib\\site-packages (from imbalanced-learn) (1.0.1)\n",
      "Requirement already satisfied: numpy>=1.13.3 in c:\\users\\dell1\\anaconda3\\lib\\site-packages (from imbalanced-learn) (1.19.5)\n",
      "Requirement already satisfied: scikit-learn>=0.24 in c:\\users\\dell1\\anaconda3\\lib\\site-packages (from imbalanced-learn) (0.24.1)\n",
      "Requirement already satisfied: threadpoolctl>=2.0.0 in c:\\users\\dell1\\anaconda3\\lib\\site-packages (from scikit-learn>=0.24->imbalanced-learn) (2.1.0)\n",
      "Installing collected packages: imbalanced-learn\n",
      "Successfully installed imbalanced-learn-0.8.1\n"
     ]
    }
   ],
   "source": [
    "!pip install -U imbalanced-learn"
   ]
  },
  {
   "cell_type": "code",
   "execution_count": 12,
   "id": "779bf7ec",
   "metadata": {},
   "outputs": [],
   "source": [
    "from imblearn.over_sampling import SMOTE\n",
    "smt=SMOTE()\n",
    "x_train1,y_train1=smt.fit_resample(x_train,y_train)\n",
    "x_test1,y_test1=smt.fit_resample(x_test,y_test)"
   ]
  },
  {
   "cell_type": "markdown",
   "id": "f40fa971",
   "metadata": {},
   "source": [
    "# Logistic Regression\n",
    "## Logistic Regression Using Default data"
   ]
  },
  {
   "cell_type": "code",
   "execution_count": 13,
   "id": "c391b12a",
   "metadata": {},
   "outputs": [
    {
     "data": {
      "text/plain": [
       "LogisticRegression(max_iter=2000)"
      ]
     },
     "execution_count": 13,
     "metadata": {},
     "output_type": "execute_result"
    }
   ],
   "source": [
    "classifier = LogisticRegression(max_iter=2000)\n",
    "classifier.fit(x_train , y_train)"
   ]
  },
  {
   "cell_type": "code",
   "execution_count": 14,
   "id": "a177a6b7",
   "metadata": {},
   "outputs": [],
   "source": [
    "log_pred_test = classifier.predict(x_test)\n",
    "log_pred_train=classifier.predict(x_train)"
   ]
  },
  {
   "cell_type": "code",
   "execution_count": 15,
   "id": "a9ce684b",
   "metadata": {},
   "outputs": [
    {
     "name": "stdout",
     "output_type": "stream",
     "text": [
      "Accuracy of Training data = 97.20200181983621\n",
      "Accuracy of Test data = 96.36342646040175\n"
     ]
    }
   ],
   "source": [
    "acc_log_train=accuracy_score(y_train,log_pred_train)*100\n",
    "acc_log_test = accuracy_score(y_test, log_pred_test) * 100\n",
    "print('Accuracy of Training data =',acc_log_train)\n",
    "print(\"Accuracy of Test data =\", acc_log_test)"
   ]
  },
  {
   "cell_type": "code",
   "execution_count": 16,
   "id": "cf5d33e1",
   "metadata": {},
   "outputs": [
    {
     "name": "stdout",
     "output_type": "stream",
     "text": [
      "              precision    recall  f1-score   support\n",
      "\n",
      "     Abusive       0.97      0.75      0.84      1136\n",
      " Non Abusive       0.96      1.00      0.98      7526\n",
      "\n",
      "    accuracy                           0.96      8662\n",
      "   macro avg       0.97      0.87      0.91      8662\n",
      "weighted avg       0.96      0.96      0.96      8662\n",
      "\n"
     ]
    }
   ],
   "source": [
    "print(classification_report(y_test,log_pred_test))"
   ]
  },
  {
   "cell_type": "code",
   "execution_count": 17,
   "id": "851f2b59",
   "metadata": {},
   "outputs": [
    {
     "data": {
      "image/png": "[encoded data removed]",
      "text/plain": [
       "<Figure size 432x288 with 1 Axes>"
      ]
     },
     "metadata": {
      "needs_background": "light"
     },
     "output_type": "display_data"
    }
   ],
   "source": [
    "from sklearn import metrics\n",
    "classes = np.unique(y_test)\n",
    "cm0 = metrics.confusion_matrix(y_test,log_pred_test)\n",
    "fig, ax = plt.subplots()\n",
    "sns.heatmap(cm0, annot=True, fmt='d', ax=ax, cmap=plt.cm.Blues, \n",
    "            cbar=False)\n",
    "ax.set(xlabel=\"Pred\", ylabel=\"True\", xticklabels=classes, \n",
    "       yticklabels=classes, title=\"Confusion matrix\")\n",
    "plt.yticks(rotation=0);"
   ]
  },
  {
   "cell_type": "markdown",
   "id": "d2cff45b",
   "metadata": {},
   "source": [
    "## Logistic Regression using balanced data"
   ]
  },
  {
   "cell_type": "code",
   "execution_count": 18,
   "id": "ec9b06f4",
   "metadata": {},
   "outputs": [
    {
     "data": {
      "text/plain": [
       "LogisticRegression(max_iter=2000)"
      ]
     },
     "execution_count": 18,
     "metadata": {},
     "output_type": "execute_result"
    }
   ],
   "source": [
    "classifier2 = LogisticRegression(max_iter=2000)\n",
    "classifier2.fit(x_train1 , y_train1)"
   ]
  },
  {
   "cell_type": "code",
   "execution_count": 19,
   "id": "f449dc7c",
   "metadata": {},
   "outputs": [],
   "source": [
    "log_pred2_test = classifier.predict(x_test1)\n",
    "log_pred2_train=classifier.predict(x_train1)"
   ]
  },
  {
   "cell_type": "code",
   "execution_count": 20,
   "id": "b34df5b6",
   "metadata": {},
   "outputs": [
    {
     "name": "stdout",
     "output_type": "stream",
     "text": [
      "Accuracy of Training data = 81.68843892880471\n",
      "Accuracy of Test data = 77.32527238905129\n"
     ]
    }
   ],
   "source": [
    "acc2_log_train=accuracy_score(y_train1,log_pred2_train)*100\n",
    "acc2_log_test = accuracy_score(y_test1, log_pred2_test) * 100\n",
    "print('Accuracy of Training data =',acc2_log_train)\n",
    "print(\"Accuracy of Test data =\", acc2_log_test)"
   ]
  },
  {
   "cell_type": "code",
   "execution_count": 21,
   "id": "dc53a1df",
   "metadata": {},
   "outputs": [
    {
     "name": "stdout",
     "output_type": "stream",
     "text": [
      "              precision    recall  f1-score   support\n",
      "\n",
      "     Abusive       0.99      0.55      0.71      7526\n",
      " Non Abusive       0.69      1.00      0.81      7526\n",
      "\n",
      "    accuracy                           0.77     15052\n",
      "   macro avg       0.84      0.77      0.76     15052\n",
      "weighted avg       0.84      0.77      0.76     15052\n",
      "\n"
     ]
    }
   ],
   "source": [
    "print(classification_report(y_test1,log_pred2_test))"
   ]
  },
  {
   "cell_type": "code",
   "execution_count": 22,
   "id": "b6fcbd54",
   "metadata": {},
   "outputs": [
    {
     "data": {
      "image/png": "[encoded data removed]",
      "text/plain": [
       "<Figure size 432x288 with 1 Axes>"
      ]
     },
     "metadata": {
      "needs_background": "light"
     },
     "output_type": "display_data"
    }
   ],
   "source": [
    "classes = np.unique(y_test)\n",
    "cm00 = metrics.confusion_matrix(y_test1,log_pred2_test)\n",
    "fig, ax = plt.subplots()\n",
    "sns.heatmap(cm00, annot=True, fmt='d', ax=ax, cmap=plt.cm.Blues, \n",
    "            cbar=False)\n",
    "ax.set(xlabel=\"Pred\", ylabel=\"True\", xticklabels=classes, \n",
    "       yticklabels=classes, title=\"Confusion matrix\")\n",
    "plt.yticks(rotation=0);"
   ]
  },
  {
   "cell_type": "markdown",
   "id": "5cdf57a9",
   "metadata": {},
   "source": [
    "# SVM Model (Support Vector Machine)\n",
    "## SVM with default data using TF-IDF"
   ]
  },
  {
   "cell_type": "code",
   "execution_count": 23,
   "id": "708da20a",
   "metadata": {},
   "outputs": [],
   "source": [
    "from sklearn.svm import SVC\n",
    "from sklearn.model_selection import GridSearchCV\n",
    "from sklearn.metrics import classification_report\n",
    "from sklearn.metrics import accuracy_score, confusion_matrix\n",
    "from sklearn.model_selection import  cross_val_score"
   ]
  },
  {
   "cell_type": "markdown",
   "id": "cbbb2478",
   "metadata": {},
   "source": [
    "SVM model"
   ]
  },
  {
   "cell_type": "code",
   "execution_count": 24,
   "id": "568a8c7d",
   "metadata": {},
   "outputs": [],
   "source": [
    "model1=SVC()\n",
    "model1.fit(x_train , y_train)\n",
    "y_pred = model1.predict(x_test)"
   ]
  },
  {
   "cell_type": "code",
   "execution_count": 25,
   "id": "6b20cf49",
   "metadata": {},
   "outputs": [],
   "source": [
    "y_prd_train=model1.predict(x_train)"
   ]
  },
  {
   "cell_type": "markdown",
   "id": "ff154ed7",
   "metadata": {},
   "source": [
    "Training and Test data Accuracy"
   ]
  },
  {
   "cell_type": "code",
   "execution_count": 26,
   "id": "3aff8183",
   "metadata": {},
   "outputs": [
    {
     "name": "stdout",
     "output_type": "stream",
     "text": [
      "Accuracy of Training data = 99.55072793448589\n",
      "Accuracy of Test data = 98.08358346802125\n"
     ]
    }
   ],
   "source": [
    "acc_svm_train=accuracy_score(y_train,y_prd_train)*100\n",
    "acc_svm_test = accuracy_score(y_test, y_pred) * 100\n",
    "print('Accuracy of Training data =',acc_svm_train)\n",
    "print(\"Accuracy of Test data =\", acc_svm_test)"
   ]
  },
  {
   "cell_type": "markdown",
   "id": "9ee8c506",
   "metadata": {},
   "source": [
    "Precision , Recall , f1-score of the model"
   ]
  },
  {
   "cell_type": "code",
   "execution_count": 27,
   "id": "feccdb53",
   "metadata": {},
   "outputs": [
    {
     "name": "stdout",
     "output_type": "stream",
     "text": [
      "              precision    recall  f1-score   support\n",
      "\n",
      "     Abusive       0.98      0.88      0.92      1136\n",
      " Non Abusive       0.98      1.00      0.99      7526\n",
      "\n",
      "    accuracy                           0.98      8662\n",
      "   macro avg       0.98      0.94      0.96      8662\n",
      "weighted avg       0.98      0.98      0.98      8662\n",
      "\n"
     ]
    }
   ],
   "source": [
    "print(classification_report(y_test,y_pred))"
   ]
  },
  {
   "cell_type": "markdown",
   "id": "3989f084",
   "metadata": {},
   "source": [
    "Abusive (1136) = 994 (87.5%) are correctly classified  and 142 (12.5%) are wrongly classified\n",
    "Non-Abusive(7526)= 7502 (99.6%) are correctly classified and 24 (0.4%) are wrongly classified"
   ]
  },
  {
   "cell_type": "markdown",
   "id": "ee58e1e6",
   "metadata": {},
   "source": [
    "Confusion matrix for the model"
   ]
  },
  {
   "cell_type": "code",
   "execution_count": 28,
   "id": "2328ed1d",
   "metadata": {},
   "outputs": [
    {
     "data": {
      "image/png": "[encoded data removed]",
      "text/plain": [
       "<Figure size 432x288 with 1 Axes>"
      ]
     },
     "metadata": {
      "needs_background": "light"
     },
     "output_type": "display_data"
    }
   ],
   "source": [
    "from sklearn import metrics\n",
    "import matplotlib.pyplot as plt\n",
    "import seaborn as sns\n",
    "import numpy as np\n",
    "\n",
    "classes = np.unique(y_test)\n",
    "cm = metrics.confusion_matrix(y_test, y_pred)\n",
    "fig, ax = plt.subplots()\n",
    "sns.heatmap(cm, annot=True, fmt='d', ax=ax, cmap=plt.cm.Blues, \n",
    "            cbar=False)\n",
    "ax.set(xlabel=\"Pred\", ylabel=\"True\", xticklabels=classes, \n",
    "       yticklabels=classes, title=\"Confusion matrix\")\n",
    "plt.yticks(rotation=0);"
   ]
  },
  {
   "cell_type": "code",
   "execution_count": 29,
   "id": "52f89fa2",
   "metadata": {},
   "outputs": [],
   "source": [
    "filename = 'nlp_model1.pkl'\n",
    "pickle.dump(model1, open(filename, 'wb'))"
   ]
  },
  {
   "cell_type": "markdown",
   "id": "238a0993",
   "metadata": {},
   "source": [
    "## SVM with balanced data (by SMOTE method) using TF-IDF"
   ]
  },
  {
   "cell_type": "code",
   "execution_count": 30,
   "id": "5f39da1a",
   "metadata": {},
   "outputs": [],
   "source": [
    "model2=SVC()\n",
    "model2.fit(x_train1 , y_train1)\n",
    "y_pred2 = model2.predict(x_test1)"
   ]
  },
  {
   "cell_type": "code",
   "execution_count": 31,
   "id": "3703ec1d",
   "metadata": {},
   "outputs": [],
   "source": [
    "y_prd_train1=model2.predict(x_train1)"
   ]
  },
  {
   "cell_type": "code",
   "execution_count": 32,
   "id": "779c11e6",
   "metadata": {},
   "outputs": [
    {
     "name": "stdout",
     "output_type": "stream",
     "text": [
      "Accuracy of Train data =  99.7615937295885\n",
      "Accuracy of Test data = 97.63486579856497\n"
     ]
    }
   ],
   "source": [
    "acc_svm_b_train=accuracy_score(y_train1,y_prd_train1)*100\n",
    "acc_svm_b_test=accuracy_score(y_test1, y_pred2) * 100\n",
    "print('Accuracy of Train data = ' ,acc_svm_b_train)\n",
    "print('Accuracy of Test data =',acc_svm_b_test )"
   ]
  },
  {
   "cell_type": "markdown",
   "id": "7682da9e",
   "metadata": {},
   "source": [
    "Precision , Recall , f1-score of the model"
   ]
  },
  {
   "cell_type": "code",
   "execution_count": 33,
   "id": "9c7e66bf",
   "metadata": {},
   "outputs": [
    {
     "name": "stdout",
     "output_type": "stream",
     "text": [
      "              precision    recall  f1-score   support\n",
      "\n",
      "     Abusive       0.99      0.96      0.98      7526\n",
      " Non Abusive       0.96      0.99      0.98      7526\n",
      "\n",
      "    accuracy                           0.98     15052\n",
      "   macro avg       0.98      0.98      0.98     15052\n",
      "weighted avg       0.98      0.98      0.98     15052\n",
      "\n"
     ]
    }
   ],
   "source": [
    "print(classification_report(y_test1,y_pred2))"
   ]
  },
  {
   "cell_type": "code",
   "execution_count": 34,
   "id": "9a5bd3ac",
   "metadata": {},
   "outputs": [
    {
     "data": {
      "text/plain": [
       "array([[7242,  284],\n",
       "       [  72, 7454]], dtype=int64)"
      ]
     },
     "execution_count": 34,
     "metadata": {},
     "output_type": "execute_result"
    }
   ],
   "source": [
    "import numpy as np\n",
    "confusion_matrix(y_test1,y_pred2)"
   ]
  },
  {
   "cell_type": "code",
   "execution_count": 35,
   "id": "854779e5",
   "metadata": {},
   "outputs": [
    {
     "data": {
      "image/png": "[encoded data removed]",
      "text/plain": [
       "<Figure size 432x288 with 1 Axes>"
      ]
     },
     "metadata": {
      "needs_background": "light"
     },
     "output_type": "display_data"
    }
   ],
   "source": [
    "cm2 = metrics.confusion_matrix(y_test1, y_pred2)\n",
    "fig, ax = plt.subplots()\n",
    "sns.heatmap(cm2, annot=True, fmt='d', ax=ax, cmap=plt.cm.Blues, \n",
    "            cbar=False)\n",
    "ax.set(xlabel=\"Pred\", ylabel=\"True\", xticklabels=classes, \n",
    "       yticklabels=classes, title=\"Confusion matrix\")\n",
    "plt.yticks(rotation=0);"
   ]
  },
  {
   "cell_type": "code",
   "execution_count": 36,
   "id": "df9ab057",
   "metadata": {},
   "outputs": [],
   "source": [
    "filename = 'nlp_model2.pkl'\n",
    "pickle.dump(model2, open(filename, 'wb'))"
   ]
  },
  {
   "cell_type": "markdown",
   "id": "dc8c17c5",
   "metadata": {},
   "source": [
    "# Naive Bayes Model"
   ]
  },
  {
   "cell_type": "code",
   "execution_count": 37,
   "id": "5e937a4c",
   "metadata": {},
   "outputs": [],
   "source": [
    "from sklearn.naive_bayes import MultinomialNB as MB"
   ]
  },
  {
   "cell_type": "markdown",
   "id": "135f21ed",
   "metadata": {},
   "source": [
    "## Multinomial Navie Bayes model with default data"
   ]
  },
  {
   "cell_type": "code",
   "execution_count": 38,
   "id": "c0f8ab64",
   "metadata": {},
   "outputs": [
    {
     "data": {
      "text/plain": [
       "MultinomialNB()"
      ]
     },
     "execution_count": 38,
     "metadata": {},
     "output_type": "execute_result"
    }
   ],
   "source": [
    "NB_mb = MB()\n",
    "NB_mb.fit(x_train,y_train)"
   ]
  },
  {
   "cell_type": "markdown",
   "id": "6a581fa8",
   "metadata": {},
   "source": [
    "Training accuracy"
   ]
  },
  {
   "cell_type": "code",
   "execution_count": 39,
   "id": "544a55c0",
   "metadata": {},
   "outputs": [
    {
     "data": {
      "text/plain": [
       "94.91583257506825"
      ]
     },
     "execution_count": 39,
     "metadata": {},
     "output_type": "execute_result"
    }
   ],
   "source": [
    "train_pred_NB_mb = NB_mb.predict(x_train)\n",
    "accuracy_train_NB_mb = accuracy_score(y_train,train_pred_NB_mb)*100\n",
    "accuracy_train_NB_mb"
   ]
  },
  {
   "cell_type": "markdown",
   "id": "df3de2e0",
   "metadata": {},
   "source": [
    "Test accuracy"
   ]
  },
  {
   "cell_type": "code",
   "execution_count": 40,
   "id": "67e06859",
   "metadata": {},
   "outputs": [
    {
     "data": {
      "text/plain": [
       "94.13530362502887"
      ]
     },
     "execution_count": 40,
     "metadata": {},
     "output_type": "execute_result"
    }
   ],
   "source": [
    "test_pred_NB_mb = NB_mb.predict(x_test)\n",
    "accuracy_test_NB_mb = accuracy_score(y_test,test_pred_NB_mb)*100\n",
    "accuracy_test_NB_mb"
   ]
  },
  {
   "cell_type": "markdown",
   "id": "6e419bdf",
   "metadata": {},
   "source": [
    "The accuracies for train data(94.2%) and test data(94.1%) are good but as we can seethere are many type 1 and type 2 errors in confusion matrix. The precision, recall, f1-score values are less than the SVM model built above."
   ]
  },
  {
   "cell_type": "code",
   "execution_count": 41,
   "id": "a8420855",
   "metadata": {},
   "outputs": [
    {
     "name": "stdout",
     "output_type": "stream",
     "text": [
      "              precision    recall  f1-score   support\n",
      "\n",
      "     Abusive       0.86      0.67      0.75      1136\n",
      " Non Abusive       0.95      0.98      0.97      7526\n",
      "\n",
      "    accuracy                           0.94      8662\n",
      "   macro avg       0.90      0.82      0.86      8662\n",
      "weighted avg       0.94      0.94      0.94      8662\n",
      "\n"
     ]
    }
   ],
   "source": [
    "print(classification_report(y_test,test_pred_NB_mb))"
   ]
  },
  {
   "cell_type": "code",
   "execution_count": 42,
   "id": "d6e87ac1",
   "metadata": {},
   "outputs": [
    {
     "data": {
      "text/plain": [
       "array([[ 756,  380],\n",
       "       [ 128, 7398]], dtype=int64)"
      ]
     },
     "execution_count": 42,
     "metadata": {},
     "output_type": "execute_result"
    }
   ],
   "source": [
    "confusion_matrix_NB_mb = confusion_matrix(y_test,test_pred_NB_mb)\n",
    "confusion_matrix_NB_mb"
   ]
  },
  {
   "cell_type": "code",
   "execution_count": 43,
   "id": "08def097",
   "metadata": {},
   "outputs": [
    {
     "data": {
      "image/png": "[encoded data removed]",
      "text/plain": [
       "<Figure size 432x288 with 1 Axes>"
      ]
     },
     "metadata": {
      "needs_background": "light"
     },
     "output_type": "display_data"
    }
   ],
   "source": [
    "cm3 = metrics.confusion_matrix(y_test,test_pred_NB_mb)\n",
    "fig, ax = plt.subplots()\n",
    "sns.heatmap(cm3, annot=True, fmt='d', ax=ax, cmap=plt.cm.Blues, \n",
    "            cbar=False)\n",
    "ax.set(xlabel=\"Pred\", ylabel=\"True\", xticklabels=classes, \n",
    "       yticklabels=classes, title=\"Confusion matrix\")\n",
    "plt.yticks(rotation=0);"
   ]
  },
  {
   "cell_type": "markdown",
   "id": "79279eff",
   "metadata": {},
   "source": [
    "## Multinomial Navie Bayes model with balanced data(by SMOTE method)"
   ]
  },
  {
   "cell_type": "code",
   "execution_count": 44,
   "id": "86f06117",
   "metadata": {},
   "outputs": [
    {
     "data": {
      "text/plain": [
       "MultinomialNB()"
      ]
     },
     "execution_count": 44,
     "metadata": {},
     "output_type": "execute_result"
    }
   ],
   "source": [
    "NB_mb_b = MB()\n",
    "NB_mb_b.fit(x_train1,y_train1)"
   ]
  },
  {
   "cell_type": "code",
   "execution_count": 45,
   "id": "9a5afcb1",
   "metadata": {},
   "outputs": [
    {
     "name": "stdout",
     "output_type": "stream",
     "text": [
      "Accuracy of NB train data = 92.73677335075115\n",
      "Accuracy of NB test data= 73.438745681637\n"
     ]
    }
   ],
   "source": [
    "train_pred_NB_mb_b = NB_mb_b.predict(x_train1)\n",
    "accuracy_train_NB_mb_b = accuracy_score(y_train1,train_pred_NB_mb_b)*100\n",
    "test_pred_NB_mb_b = NB_mb.predict(x_test1)\n",
    "accuracy_test_NB_mb_b = accuracy_score(y_test1,test_pred_NB_mb_b)*100\n",
    "print('Accuracy of NB train data =',accuracy_train_NB_mb_b)\n",
    "print('Accuracy of NB test data=',accuracy_test_NB_mb_b)"
   ]
  },
  {
   "cell_type": "markdown",
   "id": "17c62de3",
   "metadata": {},
   "source": [
    "For this model with balanced data we can see precision,recall,f1-score values are bad than above models.Test accuracy is also not good. "
   ]
  },
  {
   "cell_type": "code",
   "execution_count": 46,
   "id": "7da6b951",
   "metadata": {},
   "outputs": [
    {
     "name": "stdout",
     "output_type": "stream",
     "text": [
      "              precision    recall  f1-score   support\n",
      "\n",
      "     Abusive       0.97      0.49      0.65      7526\n",
      " Non Abusive       0.66      0.98      0.79      7526\n",
      "\n",
      "    accuracy                           0.73     15052\n",
      "   macro avg       0.81      0.73      0.72     15052\n",
      "weighted avg       0.81      0.73      0.72     15052\n",
      "\n"
     ]
    }
   ],
   "source": [
    "print(classification_report(y_test1,test_pred_NB_mb_b))"
   ]
  },
  {
   "cell_type": "code",
   "execution_count": 47,
   "id": "96b81a05",
   "metadata": {},
   "outputs": [
    {
     "data": {
      "text/plain": [
       "array([[3656, 3870],\n",
       "       [ 128, 7398]], dtype=int64)"
      ]
     },
     "execution_count": 47,
     "metadata": {},
     "output_type": "execute_result"
    }
   ],
   "source": [
    "confusion_matrix_NB_mb_b = confusion_matrix(y_test1,test_pred_NB_mb_b)\n",
    "confusion_matrix_NB_mb_b"
   ]
  },
  {
   "cell_type": "code",
   "execution_count": 48,
   "id": "4e67eb50",
   "metadata": {},
   "outputs": [
    {
     "data": {
      "image/png": "[encoded data removed]",
      "text/plain": [
       "<Figure size 432x288 with 1 Axes>"
      ]
     },
     "metadata": {
      "needs_background": "light"
     },
     "output_type": "display_data"
    }
   ],
   "source": [
    "\n",
    "cm4 = metrics.confusion_matrix(y_test1,test_pred_NB_mb_b)\n",
    "fig, ax = plt.subplots()\n",
    "sns.heatmap(cm4, annot=True, fmt='d', ax=ax, cmap=plt.cm.Blues, \n",
    "            cbar=False)\n",
    "ax.set(xlabel=\"Pred\", ylabel=\"True\", xticklabels=classes, \n",
    "       yticklabels=classes, title=\"Confusion matrix\")\n",
    "plt.yticks(rotation=0);"
   ]
  },
  {
   "cell_type": "markdown",
   "id": "cc6c431b",
   "metadata": {},
   "source": [
    "# Recurrent Neural Network (RNN) Model with Long Term-Short Memory Nerwork(LSTM)"
   ]
  },
  {
   "cell_type": "code",
   "execution_count": 49,
   "id": "e3b79c4c",
   "metadata": {},
   "outputs": [],
   "source": [
    "import tensorflow as tf\n",
    "from tensorflow.keras.layers import Embedding\n",
    "from tensorflow.keras.preprocessing.sequence import pad_sequences\n",
    "from tensorflow.keras.models import Sequential\n",
    "from tensorflow.keras.preprocessing.text import one_hot\n",
    "from tensorflow.keras.layers import LSTM\n",
    "from tensorflow.keras.layers import Dense\n",
    "from tensorflow.keras.layers import Bidirectional\n",
    "from tensorflow.keras.layers import Dropout"
   ]
  },
  {
   "cell_type": "code",
   "execution_count": 92,
   "id": "3452dedd",
   "metadata": {},
   "outputs": [
    {
     "data": {
      "text/html": [
       "<div>\n",
       "<style scoped>\n",
       "    .dataframe tbody tr th:only-of-type {\n",
       "        vertical-align: middle;\n",
       "    }\n",
       "\n",
       "    .dataframe tbody tr th {\n",
       "        vertical-align: top;\n",
       "    }\n",
       "\n",
       "    .dataframe thead th {\n",
       "        text-align: right;\n",
       "    }\n",
       "</style>\n",
       "<table border=\"1\" class=\"dataframe\">\n",
       "  <thead>\n",
       "    <tr style=\"text-align: right;\">\n",
       "      <th></th>\n",
       "      <th>Unnamed: 0</th>\n",
       "      <th>cleaned_3</th>\n",
       "      <th>Class</th>\n",
       "    </tr>\n",
       "  </thead>\n",
       "  <tbody>\n",
       "    <tr>\n",
       "      <th>0</th>\n",
       "      <td>0</td>\n",
       "      <td>eat shit john j pm john footbal bet minn buff ...</td>\n",
       "      <td>Abusive</td>\n",
       "    </tr>\n",
       "    <tr>\n",
       "      <th>1</th>\n",
       "      <td>1</td>\n",
       "      <td>fuck</td>\n",
       "      <td>Abusive</td>\n",
       "    </tr>\n",
       "    <tr>\n",
       "      <th>2</th>\n",
       "      <td>2</td>\n",
       "      <td>gentleman follow champagn avail approxim retai...</td>\n",
       "      <td>Abusive</td>\n",
       "    </tr>\n",
       "    <tr>\n",
       "      <th>3</th>\n",
       "      <td>3</td>\n",
       "      <td>sorri taken longjust tri fend chick life soooo...</td>\n",
       "      <td>Abusive</td>\n",
       "    </tr>\n",
       "    <tr>\n",
       "      <th>4</th>\n",
       "      <td>4</td>\n",
       "      <td>asshol john j john john seem make gambl proble...</td>\n",
       "      <td>Abusive</td>\n",
       "    </tr>\n",
       "  </tbody>\n",
       "</table>\n",
       "</div>"
      ],
      "text/plain": [
       "   Unnamed: 0                                          cleaned_3    Class\n",
       "0           0  eat shit john j pm john footbal bet minn buff ...  Abusive\n",
       "1           1                                               fuck  Abusive\n",
       "2           2  gentleman follow champagn avail approxim retai...  Abusive\n",
       "3           3  sorri taken longjust tri fend chick life soooo...  Abusive\n",
       "4           4  asshol john j john john seem make gambl proble...  Abusive"
      ]
     },
     "execution_count": 92,
     "metadata": {},
     "output_type": "execute_result"
    }
   ],
   "source": [
    "data = pd.read_csv('cleandata.csv')\n",
    "data.head()"
   ]
  },
  {
   "cell_type": "code",
   "execution_count": 87,
   "id": "131df00e",
   "metadata": {},
   "outputs": [],
   "source": [
    "from sklearn.preprocessing import LabelEncoder"
   ]
  },
  {
   "cell_type": "code",
   "execution_count": 93,
   "id": "4efe4aea",
   "metadata": {},
   "outputs": [
    {
     "data": {
      "text/plain": [
       "array([0, 0, 0, ..., 1, 1, 1])"
      ]
     },
     "execution_count": 93,
     "metadata": {},
     "output_type": "execute_result"
    }
   ],
   "source": [
    "y_df = pd.read_csv('cleandata.csv')\n",
    "y = y_df.iloc[:26246,2]\n",
    "labelencoder = LabelEncoder()\n",
    "y = labelencoder.fit_transform(y)\n",
    "y"
   ]
  },
  {
   "cell_type": "code",
   "execution_count": 95,
   "id": "76aac16d",
   "metadata": {},
   "outputs": [
    {
     "data": {
      "text/html": [
       "<div>\n",
       "<style scoped>\n",
       "    .dataframe tbody tr th:only-of-type {\n",
       "        vertical-align: middle;\n",
       "    }\n",
       "\n",
       "    .dataframe tbody tr th {\n",
       "        vertical-align: top;\n",
       "    }\n",
       "\n",
       "    .dataframe thead th {\n",
       "        text-align: right;\n",
       "    }\n",
       "</style>\n",
       "<table border=\"1\" class=\"dataframe\">\n",
       "  <thead>\n",
       "    <tr style=\"text-align: right;\">\n",
       "      <th></th>\n",
       "      <th>0</th>\n",
       "    </tr>\n",
       "  </thead>\n",
       "  <tbody>\n",
       "    <tr>\n",
       "      <th>0</th>\n",
       "      <td>0</td>\n",
       "    </tr>\n",
       "    <tr>\n",
       "      <th>1</th>\n",
       "      <td>0</td>\n",
       "    </tr>\n",
       "    <tr>\n",
       "      <th>2</th>\n",
       "      <td>0</td>\n",
       "    </tr>\n",
       "    <tr>\n",
       "      <th>3</th>\n",
       "      <td>0</td>\n",
       "    </tr>\n",
       "    <tr>\n",
       "      <th>4</th>\n",
       "      <td>0</td>\n",
       "    </tr>\n",
       "    <tr>\n",
       "      <th>...</th>\n",
       "      <td>...</td>\n",
       "    </tr>\n",
       "    <tr>\n",
       "      <th>26241</th>\n",
       "      <td>1</td>\n",
       "    </tr>\n",
       "    <tr>\n",
       "      <th>26242</th>\n",
       "      <td>1</td>\n",
       "    </tr>\n",
       "    <tr>\n",
       "      <th>26243</th>\n",
       "      <td>1</td>\n",
       "    </tr>\n",
       "    <tr>\n",
       "      <th>26244</th>\n",
       "      <td>1</td>\n",
       "    </tr>\n",
       "    <tr>\n",
       "      <th>26245</th>\n",
       "      <td>1</td>\n",
       "    </tr>\n",
       "  </tbody>\n",
       "</table>\n",
       "<p>26246 rows × 1 columns</p>\n",
       "</div>"
      ],
      "text/plain": [
       "       0\n",
       "0      0\n",
       "1      0\n",
       "2      0\n",
       "3      0\n",
       "4      0\n",
       "...   ..\n",
       "26241  1\n",
       "26242  1\n",
       "26243  1\n",
       "26244  1\n",
       "26245  1\n",
       "\n",
       "[26246 rows x 1 columns]"
      ]
     },
     "execution_count": 95,
     "metadata": {},
     "output_type": "execute_result"
    }
   ],
   "source": [
    "y1 = pd.DataFrame(y)\n",
    "y1"
   ]
  },
  {
   "cell_type": "code",
   "execution_count": 62,
   "id": "3a9dbe1c",
   "metadata": {},
   "outputs": [],
   "source": [
    "data2=data.dropna(how='any')"
   ]
  },
  {
   "cell_type": "code",
   "execution_count": 63,
   "id": "39df2768",
   "metadata": {},
   "outputs": [],
   "source": [
    "corpus = data2['cleaned_3'].tolist()"
   ]
  },
  {
   "cell_type": "markdown",
   "id": "2b0493c1",
   "metadata": {},
   "source": [
    "# Vocabulary size"
   ]
  },
  {
   "cell_type": "code",
   "execution_count": 64,
   "id": "72ad9da1",
   "metadata": {},
   "outputs": [],
   "source": [
    "voc_size=10000"
   ]
  },
  {
   "cell_type": "code",
   "execution_count": 65,
   "id": "5a3729a6",
   "metadata": {},
   "outputs": [
    {
     "data": {
      "text/plain": [
       "[6773,\n",
       " 711,\n",
       " 5038,\n",
       " 7329,\n",
       " 4678,\n",
       " 5038,\n",
       " 7771,\n",
       " 7841,\n",
       " 6342,\n",
       " 7006,\n",
       " 329,\n",
       " 4096,\n",
       " 1380,\n",
       " 7434,\n",
       " 5905,\n",
       " 219,\n",
       " 3736,\n",
       " 6396]"
      ]
     },
     "execution_count": 65,
     "metadata": {},
     "output_type": "execute_result"
    }
   ],
   "source": [
    "onehot_repr = [one_hot(words, voc_size) for words in corpus]\n",
    "onehot_repr[0]"
   ]
  },
  {
   "cell_type": "code",
   "execution_count": 66,
   "id": "fb631a55",
   "metadata": {},
   "outputs": [
    {
     "data": {
      "text/plain": [
       "array([   0,    0,    0,    0,    0,    0,    0,    0,    0,    0,    0,\n",
       "          0,    0,    0,    0,    0,    0,    0,    0,    0,    0,    0,\n",
       "          0,    0,    0,    0,    0,    0,    0,    0,    0,    0,    0,\n",
       "          0,    0,    0,    0,    0,    0,    0,    0,    0,    0,    0,\n",
       "          0,    0,    0,    0,    0,    0,    0,    0,    0,    0,    0,\n",
       "          0,    0,    0,    0,    0,    0,    0,    0,    0,    0,    0,\n",
       "          0,    0,    0,    0,    0,    0,    0,    0,    0,    0,    0,\n",
       "          0,    0,    0,    0,    0,    0,    0,    0,    0,    0,    0,\n",
       "          0,    0,    0,    0,    0,    0,    0,    0,    0,    0,    0,\n",
       "          0,    0,    0,    0,    0,    0,    0,    0,    0,    0,    0,\n",
       "          0,    0,    0,    0,    0,    0,    0,    0,    0,    0,    0,\n",
       "          0,    0,    0,    0,    0,    0,    0,    0,    0,    0,    0,\n",
       "          0,    0,    0,    0,    0,    0,    0,    0,    0,    0,    0,\n",
       "          0,    0,    0,    0,    0,    0,    0,    0,    0,    0,    0,\n",
       "          0,    0,    0,    0,    0,    0,    0,    0,    0,    0,    0,\n",
       "          0,    0,    0,    0,    0,    0,    0,    0,    0,    0,    0,\n",
       "          0,    0,    0,    0,    0,    0, 6773,  711, 5038, 7329, 4678,\n",
       "       5038, 7771, 7841, 6342, 7006,  329, 4096, 1380, 7434, 5905,  219,\n",
       "       3736, 6396])"
      ]
     },
     "execution_count": 66,
     "metadata": {},
     "output_type": "execute_result"
    }
   ],
   "source": [
    "#Embedding representation\n",
    "sent_length = 200\n",
    "embedding_docs = pad_sequences(onehot_repr, padding='pre', maxlen=sent_length)\n",
    "embedding_docs[0]"
   ]
  },
  {
   "cell_type": "code",
   "execution_count": 67,
   "id": "7fe1062e",
   "metadata": {},
   "outputs": [
    {
     "name": "stdout",
     "output_type": "stream",
     "text": [
      "Model: \"sequential_1\"\n",
      "_________________________________________________________________\n",
      "Layer (type)                 Output Shape              Param #   \n",
      "=================================================================\n",
      "embedding_1 (Embedding)      (None, 200, 50)           500000    \n",
      "_________________________________________________________________\n",
      "lstm_1 (LSTM)                (None, 100)               60400     \n",
      "_________________________________________________________________\n",
      "dense_1 (Dense)              (None, 1)                 101       \n",
      "=================================================================\n",
      "Total params: 560,501\n",
      "Trainable params: 560,501\n",
      "Non-trainable params: 0\n",
      "_________________________________________________________________\n",
      "None\n"
     ]
    }
   ],
   "source": [
    "#LSTM Model\n",
    "\n",
    "embedding_vector_features = 50\n",
    "model = Sequential()\n",
    "model.add(Embedding(voc_size, embedding_vector_features, input_length =sent_length))\n",
    "model.add(LSTM(100))\n",
    "model.add(Dense(1,activation='sigmoid'))\n",
    "model.compile(loss='binary_crossentropy', optimizer='adam',metrics=['accuracy'])\n",
    "print(model.summary())"
   ]
  },
  {
   "cell_type": "markdown",
   "id": "e32c3533",
   "metadata": {},
   "source": [
    "Independent variables and Dependent Variables"
   ]
  },
  {
   "cell_type": "code",
   "execution_count": 96,
   "id": "a2cb379c",
   "metadata": {},
   "outputs": [],
   "source": [
    "X_final=np.array(embedding_docs)\n",
    "y_final=np.array(y1)"
   ]
  },
  {
   "cell_type": "code",
   "execution_count": 97,
   "id": "ebeb7a78",
   "metadata": {},
   "outputs": [
    {
     "data": {
      "text/plain": [
       "((26246, 200), (26246, 1))"
      ]
     },
     "execution_count": 97,
     "metadata": {},
     "output_type": "execute_result"
    }
   ],
   "source": [
    "X_final.shape,y_final.shape"
   ]
  },
  {
   "cell_type": "markdown",
   "id": "4e822ce0",
   "metadata": {},
   "source": [
    "Splitting Train and Test"
   ]
  },
  {
   "cell_type": "code",
   "execution_count": 98,
   "id": "405a679a",
   "metadata": {},
   "outputs": [],
   "source": [
    "X_train, X_test, Y_train, Y_test = train_test_split(X_final, y_final, test_size=0.33, random_state=0)"
   ]
  },
  {
   "cell_type": "markdown",
   "id": "2f9c2d67",
   "metadata": {},
   "source": [
    "Training Model"
   ]
  },
  {
   "cell_type": "code",
   "execution_count": 99,
   "id": "61bfb7bd",
   "metadata": {},
   "outputs": [
    {
     "name": "stdout",
     "output_type": "stream",
     "text": [
      "Epoch 1/20\n",
      "176/176 [==============================] - 53s 291ms/step - loss: 0.2619 - accuracy: 0.9108 - val_loss: 0.1429 - val_accuracy: 0.9513\n",
      "Epoch 2/20\n",
      "176/176 [==============================] - 51s 288ms/step - loss: 0.0835 - accuracy: 0.9751 - val_loss: 0.0911 - val_accuracy: 0.9723\n",
      "Epoch 3/20\n",
      "176/176 [==============================] - 49s 280ms/step - loss: 0.0431 - accuracy: 0.9876 - val_loss: 0.0886 - val_accuracy: 0.9737\n",
      "Epoch 4/20\n",
      "176/176 [==============================] - 49s 276ms/step - loss: 0.0255 - accuracy: 0.9932 - val_loss: 0.0979 - val_accuracy: 0.9769\n",
      "Epoch 5/20\n",
      "176/176 [==============================] - 49s 278ms/step - loss: 0.0191 - accuracy: 0.9947 - val_loss: 0.0971 - val_accuracy: 0.9752\n",
      "Epoch 6/20\n",
      "176/176 [==============================] - 59s 335ms/step - loss: 0.0182 - accuracy: 0.9945 - val_loss: 0.1030 - val_accuracy: 0.9752\n",
      "Epoch 7/20\n",
      "176/176 [==============================] - 61s 345ms/step - loss: 0.0098 - accuracy: 0.9977 - val_loss: 0.1044 - val_accuracy: 0.9759\n",
      "Epoch 8/20\n",
      "176/176 [==============================] - 63s 356ms/step - loss: 0.0066 - accuracy: 0.9980 - val_loss: 0.1060 - val_accuracy: 0.9753\n",
      "Epoch 9/20\n",
      "176/176 [==============================] - 59s 333ms/step - loss: 0.0057 - accuracy: 0.9987 - val_loss: 0.1109 - val_accuracy: 0.9753\n",
      "Epoch 10/20\n",
      "176/176 [==============================] - 58s 332ms/step - loss: 0.0038 - accuracy: 0.9990 - val_loss: 0.1158 - val_accuracy: 0.9758\n",
      "Epoch 11/20\n",
      "176/176 [==============================] - 55s 312ms/step - loss: 0.0095 - accuracy: 0.9970 - val_loss: 0.1257 - val_accuracy: 0.9713\n",
      "Epoch 12/20\n",
      "176/176 [==============================] - 58s 331ms/step - loss: 0.0075 - accuracy: 0.9980 - val_loss: 0.1254 - val_accuracy: 0.9768\n",
      "Epoch 13/20\n",
      "176/176 [==============================] - 56s 319ms/step - loss: 0.0031 - accuracy: 0.9993 - val_loss: 0.1403 - val_accuracy: 0.9762\n",
      "Epoch 14/20\n",
      "176/176 [==============================] - 67s 383ms/step - loss: 0.0037 - accuracy: 0.9991 - val_loss: 0.1361 - val_accuracy: 0.9762\n",
      "Epoch 15/20\n",
      "176/176 [==============================] - 67s 382ms/step - loss: 0.0021 - accuracy: 0.9995 - val_loss: 0.1539 - val_accuracy: 0.9744\n",
      "Epoch 16/20\n",
      "176/176 [==============================] - 67s 379ms/step - loss: 0.0018 - accuracy: 0.9995 - val_loss: 0.1346 - val_accuracy: 0.9749\n",
      "Epoch 17/20\n",
      "176/176 [==============================] - 68s 387ms/step - loss: 0.0035 - accuracy: 0.9986 - val_loss: 0.1410 - val_accuracy: 0.9761\n",
      "Epoch 18/20\n",
      "176/176 [==============================] - 51s 289ms/step - loss: 0.0023 - accuracy: 0.9993 - val_loss: 0.1507 - val_accuracy: 0.9754\n",
      "Epoch 19/20\n",
      "176/176 [==============================] - 63s 356ms/step - loss: 0.0026 - accuracy: 0.9990 - val_loss: 0.1495 - val_accuracy: 0.9768\n",
      "Epoch 20/20\n",
      "176/176 [==============================] - 72s 411ms/step - loss: 0.0024 - accuracy: 0.9994 - val_loss: 0.1589 - val_accuracy: 0.9761\n"
     ]
    },
    {
     "data": {
      "text/plain": [
       "<tensorflow.python.keras.callbacks.History at 0x23f6ef2d1f0>"
      ]
     },
     "execution_count": 99,
     "metadata": {},
     "output_type": "execute_result"
    }
   ],
   "source": [
    "model.fit(X_train, Y_train, validation_data=(X_test,Y_test),epochs=20, batch_size= 100)"
   ]
  },
  {
   "cell_type": "code",
   "execution_count": 100,
   "id": "aac22043",
   "metadata": {},
   "outputs": [
    {
     "name": "stderr",
     "output_type": "stream",
     "text": [
      "C:\\Users\\DELL1\\anaconda3\\lib\\site-packages\\tensorflow\\python\\keras\\engine\\sequential.py:455: UserWarning: `model.predict_classes()` is deprecated and will be removed after 2021-01-01. Please use instead:* `np.argmax(model.predict(x), axis=-1)`,   if your model does multi-class classification   (e.g. if it uses a `softmax` last-layer activation).* `(model.predict(x) > 0.5).astype(\"int32\")`,   if your model does binary classification   (e.g. if it uses a `sigmoid` last-layer activation).\n",
      "  warnings.warn('`model.predict_classes()` is deprecated and '\n"
     ]
    }
   ],
   "source": [
    "y_pred_Test=model.predict_classes(X_test)\n",
    "y_pred_Train=model.predict_classes(X_train)"
   ]
  },
  {
   "cell_type": "code",
   "execution_count": 101,
   "id": "aecdd1db",
   "metadata": {},
   "outputs": [
    {
     "name": "stdout",
     "output_type": "stream",
     "text": [
      "Accuacy for train 99.94881710646042\n",
      "Accuracy for test:  97.6102516739783\n"
     ]
    }
   ],
   "source": [
    "Accuracy_test = accuracy_score(Y_test,y_pred_Test)*100\n",
    "Accuracy_train=accuracy_score(Y_train,y_pred_Train)*100\n",
    "print(\"Accuacy for train\",Accuracy_train)\n",
    "print(\"Accuracy for test: \", Accuracy_test)"
   ]
  },
  {
   "cell_type": "code",
   "execution_count": 102,
   "id": "1e9ad506",
   "metadata": {},
   "outputs": [
    {
     "name": "stdout",
     "output_type": "stream",
     "text": [
      "              precision    recall  f1-score   support\n",
      "\n",
      "           0       0.92      0.90      0.91      1136\n",
      "           1       0.98      0.99      0.99      7526\n",
      "\n",
      "    accuracy                           0.98      8662\n",
      "   macro avg       0.95      0.94      0.95      8662\n",
      "weighted avg       0.98      0.98      0.98      8662\n",
      "\n"
     ]
    }
   ],
   "source": [
    "print(classification_report(Y_test,y_pred_Test))"
   ]
  },
  {
   "cell_type": "code",
   "execution_count": 103,
   "id": "3bb09bea",
   "metadata": {},
   "outputs": [
    {
     "data": {
      "text/plain": [
       "array([[1022,  114],\n",
       "       [  93, 7433]], dtype=int64)"
      ]
     },
     "execution_count": 103,
     "metadata": {},
     "output_type": "execute_result"
    }
   ],
   "source": [
    "confusion_matrix(Y_test,y_pred_Test)"
   ]
  },
  {
   "cell_type": "code",
   "execution_count": 104,
   "id": "14bfd431",
   "metadata": {},
   "outputs": [
    {
     "data": {
      "image/png": "[encoded data removed]",
      "text/plain": [
       "<Figure size 432x288 with 1 Axes>"
      ]
     },
     "metadata": {
      "needs_background": "light"
     },
     "output_type": "display_data"
    }
   ],
   "source": [
    "classes2=['Non Abusive','Abusive']\n",
    "cm5 = metrics.confusion_matrix(Y_test,y_pred_Test)\n",
    "fig, ax = plt.subplots()\n",
    "sns.heatmap(cm5, annot=True, fmt='d', ax=ax, cmap=plt.cm.Blues, \n",
    "            cbar=False)\n",
    "ax.set(xlabel=\"Pred\", ylabel=\"True\", xticklabels=classes2, \n",
    "       yticklabels=classes2, title=\"Confusion matrix\")\n",
    "plt.yticks(rotation=0);"
   ]
  },
  {
   "cell_type": "markdown",
   "id": "b852e295",
   "metadata": {},
   "source": [
    "# Model's Summary"
   ]
  },
  {
   "cell_type": "code",
   "execution_count": 112,
   "id": "19d6bfeb",
   "metadata": {},
   "outputs": [],
   "source": [
    "AS={'Models':['SVM', 'SVM (Balance data)', 'RNN with LTSM Model', 'Logistic Regression','Logistic Regression (Balance data)','Multinomial Naive Bayes', 'Multinomial Naive Bayes(Balance data)'],\n",
    "    'Train Accuracy':[acc_svm_train, acc_svm_b_train, Accuracy_train, acc_log_train, acc2_log_train, accuracy_train_NB_mb, accuracy_train_NB_mb_b]\n",
    "    ,'Test Accuracy':[acc_svm_test, acc_svm_b_test, Accuracy_test, acc_log_test, acc2_log_test, accuracy_test_NB_mb, accuracy_test_NB_mb_b]}"
   ]
  },
  {
   "cell_type": "code",
   "execution_count": 113,
   "id": "150ea5be",
   "metadata": {},
   "outputs": [],
   "source": [
    "Model_Acc=pd.DataFrame(AS, index =[1,2,3,4,5,6,7])"
   ]
  },
  {
   "cell_type": "code",
   "execution_count": 114,
   "id": "141eddf9",
   "metadata": {},
   "outputs": [
    {
     "data": {
      "text/html": [
       "<div>\n",
       "<style scoped>\n",
       "    .dataframe tbody tr th:only-of-type {\n",
       "        vertical-align: middle;\n",
       "    }\n",
       "\n",
       "    .dataframe tbody tr th {\n",
       "        vertical-align: top;\n",
       "    }\n",
       "\n",
       "    .dataframe thead th {\n",
       "        text-align: right;\n",
       "    }\n",
       "</style>\n",
       "<table border=\"1\" class=\"dataframe\">\n",
       "  <thead>\n",
       "    <tr style=\"text-align: right;\">\n",
       "      <th></th>\n",
       "      <th>Models</th>\n",
       "      <th>Train Accuracy</th>\n",
       "      <th>Test Accuracy</th>\n",
       "    </tr>\n",
       "  </thead>\n",
       "  <tbody>\n",
       "    <tr>\n",
       "      <th>1</th>\n",
       "      <td>SVM</td>\n",
       "      <td>99.550728</td>\n",
       "      <td>98.083583</td>\n",
       "    </tr>\n",
       "    <tr>\n",
       "      <th>2</th>\n",
       "      <td>SVM (Balance data)</td>\n",
       "      <td>99.761594</td>\n",
       "      <td>97.634866</td>\n",
       "    </tr>\n",
       "    <tr>\n",
       "      <th>3</th>\n",
       "      <td>RNN with LTSM Model</td>\n",
       "      <td>99.948817</td>\n",
       "      <td>97.610252</td>\n",
       "    </tr>\n",
       "    <tr>\n",
       "      <th>4</th>\n",
       "      <td>Logistic Regression</td>\n",
       "      <td>97.202002</td>\n",
       "      <td>96.363426</td>\n",
       "    </tr>\n",
       "    <tr>\n",
       "      <th>5</th>\n",
       "      <td>Logistic Regression (Balance data)</td>\n",
       "      <td>81.688439</td>\n",
       "      <td>77.325272</td>\n",
       "    </tr>\n",
       "    <tr>\n",
       "      <th>6</th>\n",
       "      <td>Multinomial Naive Bayes</td>\n",
       "      <td>94.915833</td>\n",
       "      <td>94.135304</td>\n",
       "    </tr>\n",
       "    <tr>\n",
       "      <th>7</th>\n",
       "      <td>Multinomial Naive Bayes(Balance data)</td>\n",
       "      <td>92.736773</td>\n",
       "      <td>73.438746</td>\n",
       "    </tr>\n",
       "  </tbody>\n",
       "</table>\n",
       "</div>"
      ],
      "text/plain": [
       "                                  Models  Train Accuracy  Test Accuracy\n",
       "1                                    SVM       99.550728      98.083583\n",
       "2                     SVM (Balance data)       99.761594      97.634866\n",
       "3                    RNN with LTSM Model       99.948817      97.610252\n",
       "4                    Logistic Regression       97.202002      96.363426\n",
       "5     Logistic Regression (Balance data)       81.688439      77.325272\n",
       "6                Multinomial Naive Bayes       94.915833      94.135304\n",
       "7  Multinomial Naive Bayes(Balance data)       92.736773      73.438746"
      ]
     },
     "execution_count": 114,
     "metadata": {},
     "output_type": "execute_result"
    }
   ],
   "source": [
    "Model_Acc"
   ]
  },
  {
   "cell_type": "markdown",
   "id": "4b04d3cf",
   "metadata": {},
   "source": [
    "Of all the above models we got best results with SVM and RNN models"
   ]
  },
  {
   "cell_type": "code",
   "execution_count": 115,
   "id": "8d37ac90",
   "metadata": {},
   "outputs": [
    {
     "data": {
      "image/png": "[encoded data removed]",
      "text/plain": [
       "<Figure size 1440x432 with 1 Axes>"
      ]
     },
     "metadata": {
      "needs_background": "light"
     },
     "output_type": "display_data"
    }
   ],
   "source": [
    "plt.figure(figsize =(20, 6))\n",
    "plt.plot(Model_Acc['Models'],Model_Acc['Train Accuracy'])\n",
    "plt.plot(Model_Acc['Models'],Model_Acc['Test Accuracy'])\n",
    "plt.title('Model Accuracies',fontdict={'fontsize': 25,'fontweight' : 15,'color' : 'g'})\n",
    "plt.xlabel('Models')\n",
    "plt.ylabel('Acuuracy')\n",
    "plt.legend(['Train', 'Test'], loc='lower right')\n",
    "plt.grid()\n",
    "plt.show();"
   ]
  },
  {
   "cell_type": "markdown",
   "id": "74b4310b",
   "metadata": {},
   "source": [
    "## Testing with Sample Dataset"
   ]
  },
  {
   "cell_type": "code",
   "execution_count": 142,
   "id": "826f7335",
   "metadata": {},
   "outputs": [
    {
     "data": {
      "text/html": [
       "<div>\n",
       "<style scoped>\n",
       "    .dataframe tbody tr th:only-of-type {\n",
       "        vertical-align: middle;\n",
       "    }\n",
       "\n",
       "    .dataframe tbody tr th {\n",
       "        vertical-align: top;\n",
       "    }\n",
       "\n",
       "    .dataframe thead th {\n",
       "        text-align: right;\n",
       "    }\n",
       "</style>\n",
       "<table border=\"1\" class=\"dataframe\">\n",
       "  <thead>\n",
       "    <tr style=\"text-align: right;\">\n",
       "      <th></th>\n",
       "      <th>comment_text</th>\n",
       "      <th>id</th>\n",
       "      <th>identity_hate</th>\n",
       "      <th>insult</th>\n",
       "      <th>obscene</th>\n",
       "      <th>set</th>\n",
       "      <th>severe_toxic</th>\n",
       "      <th>threat</th>\n",
       "      <th>toxic</th>\n",
       "      <th>toxicity</th>\n",
       "    </tr>\n",
       "  </thead>\n",
       "  <tbody>\n",
       "    <tr>\n",
       "      <th>0</th>\n",
       "      <td>explanation why the edits made under my userna...</td>\n",
       "      <td>0000997932d777bf</td>\n",
       "      <td>0.0</td>\n",
       "      <td>0.0</td>\n",
       "      <td>0.0</td>\n",
       "      <td>train</td>\n",
       "      <td>0.0</td>\n",
       "      <td>0.0</td>\n",
       "      <td>Non Abusive</td>\n",
       "      <td>0.0</td>\n",
       "    </tr>\n",
       "    <tr>\n",
       "      <th>1</th>\n",
       "      <td>d aww  he matches this background colour i m s...</td>\n",
       "      <td>000103f0d9cfb60f</td>\n",
       "      <td>0.0</td>\n",
       "      <td>0.0</td>\n",
       "      <td>0.0</td>\n",
       "      <td>train</td>\n",
       "      <td>0.0</td>\n",
       "      <td>0.0</td>\n",
       "      <td>Non Abusive</td>\n",
       "      <td>0.0</td>\n",
       "    </tr>\n",
       "    <tr>\n",
       "      <th>2</th>\n",
       "      <td>hey man  i m really not trying to edit war  it...</td>\n",
       "      <td>000113f07ec002fd</td>\n",
       "      <td>0.0</td>\n",
       "      <td>0.0</td>\n",
       "      <td>0.0</td>\n",
       "      <td>train</td>\n",
       "      <td>0.0</td>\n",
       "      <td>0.0</td>\n",
       "      <td>Non Abusive</td>\n",
       "      <td>0.0</td>\n",
       "    </tr>\n",
       "    <tr>\n",
       "      <th>3</th>\n",
       "      <td>more i can t make any real suggestions on im...</td>\n",
       "      <td>0001b41b1c6bb37e</td>\n",
       "      <td>0.0</td>\n",
       "      <td>0.0</td>\n",
       "      <td>0.0</td>\n",
       "      <td>train</td>\n",
       "      <td>0.0</td>\n",
       "      <td>0.0</td>\n",
       "      <td>Non Abusive</td>\n",
       "      <td>0.0</td>\n",
       "    </tr>\n",
       "    <tr>\n",
       "      <th>4</th>\n",
       "      <td>you  sir  are my hero  any chance you remember...</td>\n",
       "      <td>0001d958c54c6e35</td>\n",
       "      <td>0.0</td>\n",
       "      <td>0.0</td>\n",
       "      <td>0.0</td>\n",
       "      <td>train</td>\n",
       "      <td>0.0</td>\n",
       "      <td>0.0</td>\n",
       "      <td>Non Abusive</td>\n",
       "      <td>0.0</td>\n",
       "    </tr>\n",
       "    <tr>\n",
       "      <th>...</th>\n",
       "      <td>...</td>\n",
       "      <td>...</td>\n",
       "      <td>...</td>\n",
       "      <td>...</td>\n",
       "      <td>...</td>\n",
       "      <td>...</td>\n",
       "      <td>...</td>\n",
       "      <td>...</td>\n",
       "      <td>...</td>\n",
       "      <td>...</td>\n",
       "    </tr>\n",
       "    <tr>\n",
       "      <th>159566</th>\n",
       "      <td>and for the second time of asking  when your ...</td>\n",
       "      <td>ffe987279560d7ff</td>\n",
       "      <td>0.0</td>\n",
       "      <td>0.0</td>\n",
       "      <td>0.0</td>\n",
       "      <td>train</td>\n",
       "      <td>0.0</td>\n",
       "      <td>0.0</td>\n",
       "      <td>Non Abusive</td>\n",
       "      <td>0.0</td>\n",
       "    </tr>\n",
       "    <tr>\n",
       "      <th>159567</th>\n",
       "      <td>you should be ashamed of yourself that is a ho...</td>\n",
       "      <td>ffea4adeee384e90</td>\n",
       "      <td>0.0</td>\n",
       "      <td>0.0</td>\n",
       "      <td>0.0</td>\n",
       "      <td>train</td>\n",
       "      <td>0.0</td>\n",
       "      <td>0.0</td>\n",
       "      <td>Non Abusive</td>\n",
       "      <td>0.0</td>\n",
       "    </tr>\n",
       "    <tr>\n",
       "      <th>159568</th>\n",
       "      <td>spitzer umm  theres no actual article for pros...</td>\n",
       "      <td>ffee36eab5c267c9</td>\n",
       "      <td>0.0</td>\n",
       "      <td>0.0</td>\n",
       "      <td>0.0</td>\n",
       "      <td>train</td>\n",
       "      <td>0.0</td>\n",
       "      <td>0.0</td>\n",
       "      <td>Non Abusive</td>\n",
       "      <td>0.0</td>\n",
       "    </tr>\n",
       "    <tr>\n",
       "      <th>159569</th>\n",
       "      <td>and it looks like it was actually you who put ...</td>\n",
       "      <td>fff125370e4aaaf3</td>\n",
       "      <td>0.0</td>\n",
       "      <td>0.0</td>\n",
       "      <td>0.0</td>\n",
       "      <td>train</td>\n",
       "      <td>0.0</td>\n",
       "      <td>0.0</td>\n",
       "      <td>Non Abusive</td>\n",
       "      <td>0.0</td>\n",
       "    </tr>\n",
       "    <tr>\n",
       "      <th>159570</th>\n",
       "      <td>and i really don t think you understand i ca...</td>\n",
       "      <td>fff46fc426af1f9a</td>\n",
       "      <td>0.0</td>\n",
       "      <td>0.0</td>\n",
       "      <td>0.0</td>\n",
       "      <td>train</td>\n",
       "      <td>0.0</td>\n",
       "      <td>0.0</td>\n",
       "      <td>Non Abusive</td>\n",
       "      <td>0.0</td>\n",
       "    </tr>\n",
       "  </tbody>\n",
       "</table>\n",
       "<p>159571 rows × 10 columns</p>\n",
       "</div>"
      ],
      "text/plain": [
       "                                             comment_text                id  \\\n",
       "0       explanation why the edits made under my userna...  0000997932d777bf   \n",
       "1       d aww  he matches this background colour i m s...  000103f0d9cfb60f   \n",
       "2       hey man  i m really not trying to edit war  it...  000113f07ec002fd   \n",
       "3         more i can t make any real suggestions on im...  0001b41b1c6bb37e   \n",
       "4       you  sir  are my hero  any chance you remember...  0001d958c54c6e35   \n",
       "...                                                   ...               ...   \n",
       "159566   and for the second time of asking  when your ...  ffe987279560d7ff   \n",
       "159567  you should be ashamed of yourself that is a ho...  ffea4adeee384e90   \n",
       "159568  spitzer umm  theres no actual article for pros...  ffee36eab5c267c9   \n",
       "159569  and it looks like it was actually you who put ...  fff125370e4aaaf3   \n",
       "159570    and i really don t think you understand i ca...  fff46fc426af1f9a   \n",
       "\n",
       "        identity_hate  insult  obscene    set  severe_toxic  threat  \\\n",
       "0                 0.0     0.0      0.0  train           0.0     0.0   \n",
       "1                 0.0     0.0      0.0  train           0.0     0.0   \n",
       "2                 0.0     0.0      0.0  train           0.0     0.0   \n",
       "3                 0.0     0.0      0.0  train           0.0     0.0   \n",
       "4                 0.0     0.0      0.0  train           0.0     0.0   \n",
       "...               ...     ...      ...    ...           ...     ...   \n",
       "159566            0.0     0.0      0.0  train           0.0     0.0   \n",
       "159567            0.0     0.0      0.0  train           0.0     0.0   \n",
       "159568            0.0     0.0      0.0  train           0.0     0.0   \n",
       "159569            0.0     0.0      0.0  train           0.0     0.0   \n",
       "159570            0.0     0.0      0.0  train           0.0     0.0   \n",
       "\n",
       "              toxic  toxicity  \n",
       "0       Non Abusive       0.0  \n",
       "1       Non Abusive       0.0  \n",
       "2       Non Abusive       0.0  \n",
       "3       Non Abusive       0.0  \n",
       "4       Non Abusive       0.0  \n",
       "...             ...       ...  \n",
       "159566  Non Abusive       0.0  \n",
       "159567  Non Abusive       0.0  \n",
       "159568  Non Abusive       0.0  \n",
       "159569  Non Abusive       0.0  \n",
       "159570  Non Abusive       0.0  \n",
       "\n",
       "[159571 rows x 10 columns]"
      ]
     },
     "execution_count": 142,
     "metadata": {},
     "output_type": "execute_result"
    }
   ],
   "source": [
    "smp_data=pd.read_csv('train_preprocessed.csv')\n",
    "smp_data['toxic'] = smp_data['toxic'].replace(0.0, 'Non Abusive')\n",
    "smp_data['toxic'] = smp_data['toxic'].replace(1.0, 'Abusive')\n",
    "smp_data"
   ]
  },
  {
   "cell_type": "code",
   "execution_count": 143,
   "id": "7c7b0e07",
   "metadata": {},
   "outputs": [
    {
     "data": {
      "text/html": [
       "<div>\n",
       "<style scoped>\n",
       "    .dataframe tbody tr th:only-of-type {\n",
       "        vertical-align: middle;\n",
       "    }\n",
       "\n",
       "    .dataframe tbody tr th {\n",
       "        vertical-align: top;\n",
       "    }\n",
       "\n",
       "    .dataframe thead th {\n",
       "        text-align: right;\n",
       "    }\n",
       "</style>\n",
       "<table border=\"1\" class=\"dataframe\">\n",
       "  <thead>\n",
       "    <tr style=\"text-align: right;\">\n",
       "      <th></th>\n",
       "      <th>comment_text</th>\n",
       "      <th>toxic</th>\n",
       "    </tr>\n",
       "  </thead>\n",
       "  <tbody>\n",
       "    <tr>\n",
       "      <th>0</th>\n",
       "      <td>explanation why the edits made under my userna...</td>\n",
       "      <td>Non Abusive</td>\n",
       "    </tr>\n",
       "    <tr>\n",
       "      <th>1</th>\n",
       "      <td>d aww  he matches this background colour i m s...</td>\n",
       "      <td>Non Abusive</td>\n",
       "    </tr>\n",
       "    <tr>\n",
       "      <th>2</th>\n",
       "      <td>hey man  i m really not trying to edit war  it...</td>\n",
       "      <td>Non Abusive</td>\n",
       "    </tr>\n",
       "    <tr>\n",
       "      <th>3</th>\n",
       "      <td>more i can t make any real suggestions on im...</td>\n",
       "      <td>Non Abusive</td>\n",
       "    </tr>\n",
       "    <tr>\n",
       "      <th>4</th>\n",
       "      <td>you  sir  are my hero  any chance you remember...</td>\n",
       "      <td>Non Abusive</td>\n",
       "    </tr>\n",
       "  </tbody>\n",
       "</table>\n",
       "</div>"
      ],
      "text/plain": [
       "                                        comment_text        toxic\n",
       "0  explanation why the edits made under my userna...  Non Abusive\n",
       "1  d aww  he matches this background colour i m s...  Non Abusive\n",
       "2  hey man  i m really not trying to edit war  it...  Non Abusive\n",
       "3    more i can t make any real suggestions on im...  Non Abusive\n",
       "4  you  sir  are my hero  any chance you remember...  Non Abusive"
      ]
     },
     "execution_count": 143,
     "metadata": {},
     "output_type": "execute_result"
    }
   ],
   "source": [
    "smp=smp_data[['comment_text','toxic']]\n",
    "smp.head()"
   ]
  },
  {
   "cell_type": "code",
   "execution_count": 144,
   "id": "99e76a4c",
   "metadata": {},
   "outputs": [
    {
     "data": {
      "text/plain": [
       "Non Abusive    3597\n",
       "Abusive         403\n",
       "Name: toxic, dtype: int64"
      ]
     },
     "execution_count": 144,
     "metadata": {},
     "output_type": "execute_result"
    }
   ],
   "source": [
    "smp_abu=smp.iloc[:4000,:]\n",
    "smp_abu['toxic'].apply(str)\n",
    "smp_abu['toxic'].value_counts()"
   ]
  },
  {
   "cell_type": "code",
   "execution_count": 145,
   "id": "b2fa8679",
   "metadata": {},
   "outputs": [],
   "source": [
    "smp_x=smp_abu['comment_text']\n",
    "smp_y=smp_abu['toxic']"
   ]
  },
  {
   "cell_type": "code",
   "execution_count": 146,
   "id": "3eb63e68",
   "metadata": {},
   "outputs": [],
   "source": [
    "from sklearn.feature_extraction.text import TfidfVectorizer\n",
    "vectorizer = TfidfVectorizer(stop_words='english',max_features=5000, max_df = 0.5, smooth_idf=True) #keep top 1000\n",
    "doc_vec = vectorizer.fit_transform(smp_x)\n",
    "names_features = vectorizer.get_feature_names()"
   ]
  },
  {
   "cell_type": "code",
   "execution_count": 147,
   "id": "5a25040c",
   "metadata": {},
   "outputs": [],
   "source": [
    "dense = doc_vec.todense()"
   ]
  },
  {
   "cell_type": "code",
   "execution_count": 148,
   "id": "81e61773",
   "metadata": {},
   "outputs": [],
   "source": [
    "denselist = dense.tolist()"
   ]
  },
  {
   "cell_type": "code",
   "execution_count": 149,
   "id": "9fb44492",
   "metadata": {},
   "outputs": [],
   "source": [
    "tf= pd.DataFrame(denselist, columns = names_features)"
   ]
  },
  {
   "cell_type": "code",
   "execution_count": 150,
   "id": "a8a20737",
   "metadata": {},
   "outputs": [],
   "source": [
    "smp_svm_pred = model1.predict(tf)"
   ]
  },
  {
   "cell_type": "code",
   "execution_count": 151,
   "id": "62ff389a",
   "metadata": {},
   "outputs": [
    {
     "data": {
      "text/plain": [
       "array([[   3,  400],\n",
       "       [  50, 3547]], dtype=int64)"
      ]
     },
     "execution_count": 151,
     "metadata": {},
     "output_type": "execute_result"
    }
   ],
   "source": [
    "confusion_matrix(smp_y,smp_svm_pred )"
   ]
  },
  {
   "cell_type": "code",
   "execution_count": 152,
   "id": "8a42435a",
   "metadata": {},
   "outputs": [
    {
     "data": {
      "image/png": "[encoded data removed]",
      "text/plain": [
       "<Figure size 432x288 with 1 Axes>"
      ]
     },
     "metadata": {
      "needs_background": "light"
     },
     "output_type": "display_data"
    }
   ],
   "source": [
    "cm6 = metrics.confusion_matrix(smp_y,smp_svm_pred)\n",
    "fig, ax = plt.subplots()\n",
    "sns.heatmap(cm6, annot=True, fmt='d', ax=ax, cmap=plt.cm.Blues, \n",
    "            cbar=False)\n",
    "ax.set(xlabel=\"Pred\", ylabel=\"True\", xticklabels=classes, \n",
    "       yticklabels=classes, title=\"Confusion matrix\")\n",
    "plt.yticks(rotation=0);"
   ]
  },
  {
   "cell_type": "code",
   "execution_count": 153,
   "id": "029349ac",
   "metadata": {},
   "outputs": [],
   "source": [
    "smp_pred_NB=NB_mb.predict(tf)"
   ]
  },
  {
   "cell_type": "code",
   "execution_count": 154,
   "id": "1e87fcc4",
   "metadata": {},
   "outputs": [
    {
     "data": {
      "image/png": "[encoded data removed]",
      "text/plain": [
       "<Figure size 432x288 with 1 Axes>"
      ]
     },
     "metadata": {
      "needs_background": "light"
     },
     "output_type": "display_data"
    }
   ],
   "source": [
    "cm7 = metrics.confusion_matrix(smp_y,smp_pred_NB)\n",
    "fig, ax = plt.subplots()\n",
    "sns.heatmap(cm7, annot=True, fmt='d', ax=ax, cmap=plt.cm.Blues, \n",
    "            cbar=False)\n",
    "ax.set(xlabel=\"Pred\", ylabel=\"True\", xticklabels=classes, \n",
    "       yticklabels=classes, title=\"Confusion matrix\")\n",
    "plt.yticks(rotation=0);"
   ]
  }
 ],
 "metadata": {
  "kernelspec": {
   "display_name": "Python 3",
   "language": "python",
   "name": "python3"
  },
  "language_info": {
   "codemirror_mode": {
    "name": "ipython",
    "version": 3
   },
   "file_extension": ".py",
   "mimetype": "text/x-python",
   "name": "python",
   "nbconvert_exporter": "python",
   "pygments_lexer": "ipython3",
   "version": "3.8.8"
  }
 },
 "nbformat": 4,
 "nbformat_minor": 5
}
